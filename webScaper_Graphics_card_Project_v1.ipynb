{
 "cells": [
  {
   "cell_type": "code",
   "execution_count": 1,
   "source": [
    "#importing libraries\r\n",
    "from bs4 import BeautifulSoup\r\n",
    "import requests\r\n",
    "import pandas as pd\r\n",
    "from openpyxl import workbook\r\n",
    "import datetime"
   ],
   "outputs": [],
   "metadata": {}
  },
  {
   "cell_type": "code",
   "execution_count": 5,
   "source": [
    "#we are going find the html elements that holds information about graphics cards using one webpage.\r\n",
    "#the ebay listing page is filtered from 'Buy It Now' and most recent listings being sold.\r\n",
    "url = 'https://www.ebay.com/sch/i.html?_from=R40&_nkw=graphics+card&_sacat=0&LH_BIN=1&_ipg=200&_sop=10&_pgn=1'\r\n",
    "html_text = requests.get(url).text\r\n",
    "soup = BeautifulSoup(html_text, 'html.parser')\r\n",
    "product = soup.find('li', class_ = \"s-item s-item--watch-at-corner\")\r\n",
    "products = soup.find_all('li', class_ = \"s-item s-item--watch-at-corner\")\r\n",
    "\r\n"
   ],
   "outputs": [],
   "metadata": {}
  },
  {
   "cell_type": "code",
   "execution_count": null,
   "source": [
    "#this helps us get the first listing on ebay\r\n",
    "product_name = product.find('h3', class_ = 's-item__title').text.replace('New Listing','')\r\n",
    "price = product.find('span', class_ = 's-item__price').text\r\n",
    "date = product.find('span', class_ = 'BOLD').text\r\n",
    "#this is shows us our first listing\r\n",
    "print(product_name)\r\n",
    "print(price)\r\n",
    "print(date)\r\n"
   ],
   "outputs": [],
   "metadata": {}
  },
  {
   "cell_type": "code",
   "execution_count": null,
   "source": [
    "#This is used to get all the listings on this webpage.\r\n",
    "for product in products:\r\n",
    "    product_name = product.find('h3', class_ = 's-item__title').text.replace('New Listing','')\r\n",
    "    price = product.find('span', class_ = 's-item__price').text\r\n",
    "    date = product.find('span', class_ = 'BOLD').text\r\n",
    "    condition = product.find('span', class_ = 'SECONDARY_INFO').text\r\n",
    "    print(product_name)\r\n",
    "    print(price)\r\n",
    "    print(date)\r\n",
    "    print(condition)\r\n"
   ],
   "outputs": [],
   "metadata": {}
  },
  {
   "cell_type": "code",
   "execution_count": 18,
   "source": [
    "#making a function that will grab multiple pages \r\n",
    "#carlist is used as a array to store our information\r\n",
    "cardlist = []\r\n",
    "def getGraphicsCards(page):\r\n",
    "        url = f'https://www.ebay.com/sch/i.html?_from=R40&_nkw=graphics+card&_sacat=0&LH_BIN=1&_ipg=200&_sop=10&_pgn={page}'\r\n",
    "        html_text = requests.get(url).text\r\n",
    "        soup = BeautifulSoup(html_text, 'html.parser')\r\n",
    "        product = soup.find('li', class_ = \"s-item s-item--watch-at-corner\")\r\n",
    "        products = soup.find_all('li', class_ = \"s-item s-item--watch-at-corner\")\r\n",
    "        for product in products:\r\n",
    "            card =  {\r\n",
    "                product_name : product.find('h3', class_ = 's-item__title').text.replace('New Listing',''),\r\n",
    "                price : product.find('span', class_ = 's-item__price').text,\r\n",
    "                date : product.find('span', class_ = 'BOLD').text,\r\n",
    "                condition: product.find('span', class_ = 'SECONDARY_INFO').text   \r\n",
    "            }\r\n",
    "            cardlist.append(card)\r\n",
    "\r\n",
    "#the for loop is used to go thru the first 4 pages\r\n",
    "for x in range(1,5):\r\n",
    "    getGraphicsCards(x)\r\n",
    "\r\n",
    "#This variable is to get the current day that the data is pulled from  and convert into a string.\r\n",
    "day_pulled = datetime.date.today().strftime(\"%d-%b-%Y\")\r\n",
    "\r\n",
    "df = pd.DataFrame(cardlist)\r\n",
    "df.to_csv('Graphicscards_'+ day_pulled +'.csv',index=False)\r\n",
    "\r\n",
    "\"\"\"\r\n",
    "if you wanted to put your data into a excel file, you can do this instead\r\n",
    "df.to_excel('Graphicscards_'+ day_pulled +'.xlsx')\r\n",
    "\"\"\"\r\n",
    "\r\n",
    "\r\n",
    "\r\n",
    "\r\n",
    "\r\n"
   ],
   "outputs": [],
   "metadata": {}
  }
 ],
 "metadata": {
  "orig_nbformat": 4,
  "language_info": {
   "name": "python",
   "version": "3.9.5",
   "mimetype": "text/x-python",
   "codemirror_mode": {
    "name": "ipython",
    "version": 3
   },
   "pygments_lexer": "ipython3",
   "nbconvert_exporter": "python",
   "file_extension": ".py"
  },
  "kernelspec": {
   "name": "python3",
   "display_name": "Python 3.9.5 64-bit"
  },
  "interpreter": {
   "hash": "7e38cba81701f421577a65d4130375f272b0aaba7df0f9b866389ca1342784b1"
  }
 },
 "nbformat": 4,
 "nbformat_minor": 2
}